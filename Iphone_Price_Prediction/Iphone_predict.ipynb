{
 "cells": [
  {
   "cell_type": "code",
   "execution_count": 1,
   "metadata": {},
   "outputs": [],
   "source": [
    "import pandas as pd\n",
    "import numpy as np\n",
    "import matplotlib.pyplot as plt\n",
    "from sklearn import linear_model"
   ]
  },
  {
   "cell_type": "code",
   "execution_count": 2,
   "metadata": {},
   "outputs": [
    {
     "data": {
      "text/html": [
       "<div>\n",
       "<style scoped>\n",
       "    .dataframe tbody tr th:only-of-type {\n",
       "        vertical-align: middle;\n",
       "    }\n",
       "\n",
       "    .dataframe tbody tr th {\n",
       "        vertical-align: top;\n",
       "    }\n",
       "\n",
       "    .dataframe thead th {\n",
       "        text-align: right;\n",
       "    }\n",
       "</style>\n",
       "<table border=\"1\" class=\"dataframe\">\n",
       "  <thead>\n",
       "    <tr style=\"text-align: right;\">\n",
       "      <th></th>\n",
       "      <th>Description</th>\n",
       "      <th>Pro?</th>\n",
       "      <th>Unlock?</th>\n",
       "      <th>Max?</th>\n",
       "      <th>Color</th>\n",
       "      <th>GB</th>\n",
       "      <th>Price</th>\n",
       "    </tr>\n",
       "  </thead>\n",
       "  <tbody>\n",
       "    <tr>\n",
       "      <th>0</th>\n",
       "      <td>iPhone 11 Pro Max 512GB - Midnight Green Unlocked</td>\n",
       "      <td>1</td>\n",
       "      <td>1</td>\n",
       "      <td>1</td>\n",
       "      <td>Midnight Green</td>\n",
       "      <td>512GB</td>\n",
       "      <td>1179.99</td>\n",
       "    </tr>\n",
       "    <tr>\n",
       "      <th>1</th>\n",
       "      <td>iPhone 11 256GB - Purple Unlocked</td>\n",
       "      <td>0</td>\n",
       "      <td>1</td>\n",
       "      <td>0</td>\n",
       "      <td>Purple</td>\n",
       "      <td>256GB</td>\n",
       "      <td>709.99</td>\n",
       "    </tr>\n",
       "    <tr>\n",
       "      <th>2</th>\n",
       "      <td>iPhone 11 64GB - Black Unlocked</td>\n",
       "      <td>0</td>\n",
       "      <td>1</td>\n",
       "      <td>0</td>\n",
       "      <td>Black</td>\n",
       "      <td>64GB</td>\n",
       "      <td>631.00</td>\n",
       "    </tr>\n",
       "    <tr>\n",
       "      <th>3</th>\n",
       "      <td>iPhone 11 Pro Max 512GB - Silver Unlocked</td>\n",
       "      <td>1</td>\n",
       "      <td>1</td>\n",
       "      <td>1</td>\n",
       "      <td>Silver</td>\n",
       "      <td>512GB</td>\n",
       "      <td>1179.99</td>\n",
       "    </tr>\n",
       "    <tr>\n",
       "      <th>4</th>\n",
       "      <td>iPhone 11 Pro 512GB - Silver Unlocked</td>\n",
       "      <td>1</td>\n",
       "      <td>1</td>\n",
       "      <td>0</td>\n",
       "      <td>Silver</td>\n",
       "      <td>512GB</td>\n",
       "      <td>929.97</td>\n",
       "    </tr>\n",
       "    <tr>\n",
       "      <th>...</th>\n",
       "      <td>...</td>\n",
       "      <td>...</td>\n",
       "      <td>...</td>\n",
       "      <td>...</td>\n",
       "      <td>...</td>\n",
       "      <td>...</td>\n",
       "      <td>...</td>\n",
       "    </tr>\n",
       "    <tr>\n",
       "      <th>242</th>\n",
       "      <td>iPhone 11 Pro 256GB - Green Verizon</td>\n",
       "      <td>1</td>\n",
       "      <td>0</td>\n",
       "      <td>0</td>\n",
       "      <td>Green</td>\n",
       "      <td>256GB</td>\n",
       "      <td>1049.99</td>\n",
       "    </tr>\n",
       "    <tr>\n",
       "      <th>243</th>\n",
       "      <td>iPhone 11 Pro Max 512GB - Gold Sprint</td>\n",
       "      <td>1</td>\n",
       "      <td>0</td>\n",
       "      <td>1</td>\n",
       "      <td>Gold</td>\n",
       "      <td>512GB</td>\n",
       "      <td>1049.99</td>\n",
       "    </tr>\n",
       "    <tr>\n",
       "      <th>244</th>\n",
       "      <td>iPhone 11 Pro Max 256GB - Midnight Green Verizon</td>\n",
       "      <td>1</td>\n",
       "      <td>0</td>\n",
       "      <td>1</td>\n",
       "      <td>Midnight Green</td>\n",
       "      <td>256GB</td>\n",
       "      <td>1072.99</td>\n",
       "    </tr>\n",
       "    <tr>\n",
       "      <th>245</th>\n",
       "      <td>iPhone 11 Pro Max 256GB - Silver Verizon</td>\n",
       "      <td>1</td>\n",
       "      <td>0</td>\n",
       "      <td>1</td>\n",
       "      <td>Silver</td>\n",
       "      <td>256GB</td>\n",
       "      <td>1076.99</td>\n",
       "    </tr>\n",
       "    <tr>\n",
       "      <th>246</th>\n",
       "      <td>iPhone 11 Pro Max 256GB - Space Grey Unlocked</td>\n",
       "      <td>1</td>\n",
       "      <td>1</td>\n",
       "      <td>1</td>\n",
       "      <td>0</td>\n",
       "      <td>256GB</td>\n",
       "      <td>1089.99</td>\n",
       "    </tr>\n",
       "  </tbody>\n",
       "</table>\n",
       "<p>247 rows × 7 columns</p>\n",
       "</div>"
      ],
      "text/plain": [
       "                                           Description  Pro?  Unlock?  Max?  \\\n",
       "0    iPhone 11 Pro Max 512GB - Midnight Green Unlocked     1        1     1   \n",
       "1                    iPhone 11 256GB - Purple Unlocked     0        1     0   \n",
       "2                      iPhone 11 64GB - Black Unlocked     0        1     0   \n",
       "3            iPhone 11 Pro Max 512GB - Silver Unlocked     1        1     1   \n",
       "4                iPhone 11 Pro 512GB - Silver Unlocked     1        1     0   \n",
       "..                                                 ...   ...      ...   ...   \n",
       "242                iPhone 11 Pro 256GB - Green Verizon     1        0     0   \n",
       "243              iPhone 11 Pro Max 512GB - Gold Sprint     1        0     1   \n",
       "244   iPhone 11 Pro Max 256GB - Midnight Green Verizon     1        0     1   \n",
       "245           iPhone 11 Pro Max 256GB - Silver Verizon     1        0     1   \n",
       "246      iPhone 11 Pro Max 256GB - Space Grey Unlocked     1        1     1   \n",
       "\n",
       "              Color     GB    Price  \n",
       "0    Midnight Green  512GB  1179.99  \n",
       "1            Purple  256GB   709.99  \n",
       "2             Black   64GB   631.00  \n",
       "3            Silver  512GB  1179.99  \n",
       "4            Silver  512GB   929.97  \n",
       "..              ...    ...      ...  \n",
       "242           Green  256GB  1049.99  \n",
       "243            Gold  512GB  1049.99  \n",
       "244  Midnight Green  256GB  1072.99  \n",
       "245          Silver  256GB  1076.99  \n",
       "246               0  256GB  1089.99  \n",
       "\n",
       "[247 rows x 7 columns]"
      ]
     },
     "execution_count": 2,
     "metadata": {},
     "output_type": "execute_result"
    }
   ],
   "source": [
    "df = pd.read_csv(\"iphone_price.csv\")\n",
    "df"
   ]
  },
  {
   "cell_type": "code",
   "execution_count": 4,
   "metadata": {},
   "outputs": [
    {
     "data": {
      "text/plain": [
       "<matplotlib.collections.PathCollection at 0x15efb58f7f0>"
      ]
     },
     "execution_count": 4,
     "metadata": {},
     "output_type": "execute_result"
    },
    {
     "data": {
      "image/png": "[encoded data removed]",
      "text/plain": [
       "<Figure size 432x288 with 1 Axes>"
      ]
     },
     "metadata": {
      "needs_background": "light"
     },
     "output_type": "display_data"
    }
   ],
   "source": [
    "%matplotlib inline \n",
    "plt.xlabel(\"Storage\")\n",
    "plt.ylabel(\"Price in $\")\n",
    "plt.scatter(df.Price,df.GB,color=\"red\",marker='+')"
   ]
  }
 ],
 "metadata": {
  "interpreter": {
   "hash": "5ecfc3e915fcc509761b13acee17e9ba42754d99acb909f843b3363e18730b6c"
  },
  "kernelspec": {
   "display_name": "Python 3.9.6 64-bit",
   "language": "python",
   "name": "python3"
  },
  "language_info": {
   "codemirror_mode": {
    "name": "ipython",
    "version": 3
   },
   "file_extension": ".py",
   "mimetype": "text/x-python",
   "name": "python",
   "nbconvert_exporter": "python",
   "pygments_lexer": "ipython3",
   "version": "3.9.6"
  },
  "orig_nbformat": 4
 },
 "nbformat": 4,
 "nbformat_minor": 2
}
